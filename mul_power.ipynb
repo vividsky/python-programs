{
 "metadata": {
  "language_info": {
   "codemirror_mode": {
    "name": "ipython",
    "version": 3
   },
   "file_extension": ".py",
   "mimetype": "text/x-python",
   "name": "python",
   "nbconvert_exporter": "python",
   "pygments_lexer": "ipython3",
   "version": "3.7.3-final"
  },
  "orig_nbformat": 2,
  "kernelspec": {
   "name": "python3",
   "display_name": "Python 3.7.3 32-bit",
   "metadata": {
    "interpreter": {
     "hash": "1f569f38f9ff0ccc2d6519de6d5565ac966e53582e7a68dd5bf488942db796b1"
    }
   }
  }
 },
 "nbformat": 4,
 "nbformat_minor": 2,
 "cells": [
  {
   "cell_type": "code",
   "execution_count": 20,
   "metadata": {},
   "outputs": [
    {
     "output_type": "stream",
     "name": "stdout",
     "text": [
      "29507696046669093114159\n0.0009963512420654297\n"
     ]
    }
   ],
   "source": [
    "from time import time\n",
    "start = time()\n",
    "def mul(a, b):\n",
    "\n",
    "    if b == 1:\n",
    "        return a\n",
    "    if b % 2 == 1:\n",
    "        return a + mul(a, b - 1)\n",
    "    half = mul(a, b //2)\n",
    "    return half + half\n",
    "\n",
    "print(mul(29876542246879, 987654321))\n",
    "print(time() - start)"
   ]
  },
  {
   "cell_type": "code",
   "execution_count": 18,
   "metadata": {},
   "outputs": [
    {
     "output_type": "stream",
     "name": "stdout",
     "text": [
      "29507696046669093114159\n0.000988006591796875\n"
     ]
    }
   ],
   "source": [
    "start = time()\n",
    "print(29876542246879*987654321)\n",
    "print(time() - start)"
   ]
  },
  {
   "cell_type": "code",
   "execution_count": 36,
   "metadata": {},
   "outputs": [
    {
     "output_type": "stream",
     "name": "stdout",
     "text": [
      "868961758838235800287756364471948378335796838288975942380290688618631629298190451688200804595799187620583691268029782284423459421328787441070241643294159775050113833420284747674478527063285036001\n0.000997304916381836\n"
     ]
    }
   ],
   "source": [
    "from time import time\n",
    "start = time()\n",
    "def power(a, b):\n",
    "    \n",
    "    if b == 1:\n",
    "        return a\n",
    "    if b % 2 == 1:\n",
    "        return a * power(a, b - 1)\n",
    "    half = power(a, b //2)\n",
    "    return half * half\n",
    "    \n",
    "print(power(89,100))\n",
    "print(time() - start)"
   ]
  },
  {
   "cell_type": "code",
   "execution_count": 38,
   "metadata": {},
   "outputs": [
    {
     "output_type": "stream",
     "name": "stdout",
     "text": [
      "868961758838235800287756364471948378335796838288975942380290688618631629298190451688200804595799187620583691268029782284423459421328787441070241643294159775050113833420284747674478527063285036001\n0.0009982585906982422\n"
     ]
    }
   ],
   "source": [
    "start = time()\n",
    "print(89**100)\n",
    "print(time() - start)"
   ]
  }
 ]
}