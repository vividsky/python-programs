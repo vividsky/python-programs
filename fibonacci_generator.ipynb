{
 "metadata": {
  "language_info": {
   "codemirror_mode": {
    "name": "ipython",
    "version": 3
   },
   "file_extension": ".py",
   "mimetype": "text/x-python",
   "name": "python",
   "nbconvert_exporter": "python",
   "pygments_lexer": "ipython3",
   "version": "3.9.2-final"
  },
  "orig_nbformat": 2,
  "kernelspec": {
   "name": "python3",
   "display_name": "Python 3.9.2 64-bit",
   "metadata": {
    "interpreter": {
     "hash": "9552b8190f63102abce783a036fdab59c8fbd44b305ff071c472b263e7af8b3a"
    }
   }
  }
 },
 "nbformat": 4,
 "nbformat_minor": 2,
 "cells": [
  {
   "cell_type": "code",
   "execution_count": 2,
   "metadata": {},
   "outputs": [],
   "source": [
    "import tracemalloc"
   ]
  },
  {
   "cell_type": "code",
   "execution_count": 3,
   "metadata": {},
   "outputs": [],
   "source": [
    "def fib(max):\n",
    "    nums = []\n",
    "    a,b = 1,1\n",
    "    while len(nums)<max:\n",
    "        nums.append(b)\n",
    "        a,b = b,a+b\n",
    "    return nums\n",
    "\n"
   ]
  },
  {
   "cell_type": "code",
   "execution_count": 4,
   "metadata": {},
   "outputs": [],
   "source": [
    "def fib_generator(max):\n",
    "    a,b = 0,1\n",
    "    count = 0\n",
    "    while count <max:\n",
    "        yield a\n",
    "        a,b = b,a+b\n",
    "        count+=1"
   ]
  },
  {
   "source": [
    "# Tracing memory allocate to the program"
   ],
   "cell_type": "markdown",
   "metadata": {}
  },
  {
   "source": [
    "### without generator"
   ],
   "cell_type": "markdown",
   "metadata": {}
  },
  {
   "cell_type": "code",
   "execution_count": 11,
   "metadata": {},
   "outputs": [
    {
     "output_type": "stream",
     "name": "stdout",
     "text": [
      "Current memory usage is 0.005952MB; Peak was 466.632843MB\n"
     ]
    }
   ],
   "source": [
    "tracemalloc.start()\n",
    "fib(100000)\n",
    "current, peak = tracemalloc.get_traced_memory()\n",
    "print(f\"Current memory usage is {current / 10**6}MB; Peak was {peak / 10**6}MB\")\n",
    "tracemalloc.stop()"
   ]
  },
  {
   "source": [
    "### with generator"
   ],
   "cell_type": "markdown",
   "metadata": {}
  },
  {
   "cell_type": "code",
   "execution_count": 12,
   "metadata": {},
   "outputs": [
    {
     "output_type": "stream",
     "name": "stdout",
     "text": [
      "Current memory usage is 0.000933MB; Peak was 0.011779MB\n"
     ]
    }
   ],
   "source": [
    "tracemalloc.start()\n",
    "fib_generator(100000)\n",
    "current, peak = tracemalloc.get_traced_memory()\n",
    "print(f\"Current memory usage is {current / 10**6}MB; Peak was {peak / 10**6}MB\")\n",
    "tracemalloc.stop()"
   ]
  }
 ]
}