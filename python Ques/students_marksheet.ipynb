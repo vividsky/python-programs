{
 "metadata": {
  "language_info": {
   "codemirror_mode": {
    "name": "ipython",
    "version": 3
   },
   "file_extension": ".py",
   "mimetype": "text/x-python",
   "name": "python",
   "nbconvert_exporter": "python",
   "pygments_lexer": "ipython3",
   "version": "3.7.3-final"
  },
  "orig_nbformat": 2,
  "kernelspec": {
   "name": "python3",
   "display_name": "Python 3.7.3 32-bit",
   "metadata": {
    "interpreter": {
     "hash": "1f569f38f9ff0ccc2d6519de6d5565ac966e53582e7a68dd5bf488942db796b1"
    }
   }
  }
 },
 "nbformat": 4,
 "nbformat_minor": 2,
 "cells": [
  {
   "cell_type": "code",
   "execution_count": null,
   "metadata": {},
   "outputs": [],
   "source": [
    "import pickle"
   ]
  },
  {
   "cell_type": "code",
   "execution_count": 3,
   "metadata": {},
   "outputs": [
    {
     "output_type": "stream",
     "name": "stdout",
     "text": [
      "student1 info: \n"
     ]
    },
    {
     "output_type": "execute_result",
     "data": {
      "text/plain": [
       "{'Name': 'Nidhi', 'RollNo': 1, 'Marks': [23, 45, 67, 37, 43]}"
      ]
     },
     "metadata": {},
     "execution_count": 3
    }
   ],
   "source": [
    "data_dict = dict()\n",
    "def datainput():\n",
    "    n = int(input('Number of students:'))\n",
    "\n",
    "    for i in range(n):\n",
    "        print(f'student{i+1} info: ')\n",
    "        data = dict.fromkeys(['Name', 'RollNo', 'Marks'], None)\n",
    "        name = input('Name:')\n",
    "        rollNo = int(input('Roll no:'))\n",
    "        marks = list(map(int,input('Marks(space separated)').split()))\n",
    "        data['Name'] = name\n",
    "        data['RollNo'] = rollNo\n",
    "        data['Marks'] = marks\n",
    "\n",
    "        data_dict.update(data)\n",
    "    return data_dict\n",
    "\n"
   ]
  },
  {
   "cell_type": "code",
   "execution_count": null,
   "metadata": {},
   "outputs": [],
   "source": [
    "data_dict = datainput()\n",
    "with open('marksheet', 'wb') as f:\n",
    "    pickle.dump(data_dict)"
   ]
  }
 ]
}