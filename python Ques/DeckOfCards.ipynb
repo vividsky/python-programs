{
 "metadata": {
  "language_info": {
   "codemirror_mode": {
    "name": "ipython",
    "version": 3
   },
   "file_extension": ".py",
   "mimetype": "text/x-python",
   "name": "python",
   "nbconvert_exporter": "python",
   "pygments_lexer": "ipython3",
   "version": "3.7.3-final"
  },
  "orig_nbformat": 2,
  "kernelspec": {
   "name": "python3",
   "display_name": "Python 3.7.3 32-bit",
   "metadata": {
    "interpreter": {
     "hash": "1f569f38f9ff0ccc2d6519de6d5565ac966e53582e7a68dd5bf488942db796b1"
    }
   }
  }
 },
 "nbformat": 4,
 "nbformat_minor": 2,
 "cells": [
  {
   "cell_type": "code",
   "execution_count": 3,
   "metadata": {},
   "outputs": [],
   "source": [
    "from random import choice,shuffle\n",
    "\n",
    "class Deck:\n",
    "    \n",
    "    suits = ['Hearts', 'Diamonds']\n",
    "    values = ['A', 'J']\n",
    "        \n",
    "    def __init__(self):\n",
    "        self.cards = []\n",
    "        for i in Deck.suits:\n",
    "            for j in Deck.values:\n",
    "                self.cards.append(self.Card(i, j))\n",
    "\n",
    "    class Card:\n",
    "\n",
    "        def __init__(self, suit, value):\n",
    "            self.suit = suit\n",
    "            self.value = value\n",
    "        \n",
    "        def __repr__(self):\n",
    "            return f'{self.value} of {self.suit}'\n",
    "   \n",
    "    \n",
    "    @property\n",
    "    def count(self):\n",
    "        return len(self.cards)\n",
    "\n",
    "    def shuffle(self):\n",
    "        if self.count == 52 : \n",
    "            shuffle(self.cards)\n",
    "        else:\n",
    "            raise ValueError('Only full decks can be shuffled')\n",
    "    \n",
    "    def _deal(self, num = 1):\n",
    "        dealHand = []\n",
    "        \n",
    "        if self.count > 0:\n",
    "            for i in range(min(num, self.count)):\n",
    "                c = self.cards.pop()\n",
    "                dealHand.append(c)\n",
    "                \n",
    "            return dealHand\n",
    "\n",
    "        else:\n",
    "            raise ValueError('All cards have been dealt')\n",
    "    \n",
    "    def deal_card(self):\n",
    "       dealHand = self._deal()\n",
    "       return dealHand[0]\n",
    "    \n",
    "    def deal_hand(self, num):\n",
    "        dealHand = self._deal(num) \n",
    "        return dealHand\n",
    "\n",
    "    def __repr__(self):\n",
    "        return f'Deck of {self.count} cards'\n"
   ]
  },
  {
   "cell_type": "code",
   "execution_count": 4,
   "metadata": {},
   "outputs": [
    {
     "output_type": "stream",
     "name": "stdout",
     "text": [
      "Deck of 4 cards\n[A of Hearts, J of Hearts, A of Diamonds, J of Diamonds]\nA of Diamonds\n[A of Hearts, J of Hearts]\nDeck of 1 cards\n"
     ]
    }
   ],
   "source": [
    "my_deck = Deck()\n",
    "print(my_deck)\n",
    "print(my_deck.cards)\n",
    "my_deck.shuffle()\n",
    "card = my_deck.deal_card()\n",
    "print(card)\n",
    "hand = my_deck.deal_hand(2)\n",
    "print(hand)\n",
    "print(my_deck)\n",
    "card = my_deck.deal_card()\n",
    "# print(card)\n",
    "# card = my_deck.deal_card()\n",
    "# print(card)"
   ]
  },
  {
   "cell_type": "code",
   "execution_count": null,
   "metadata": {},
   "outputs": [],
   "source": [
    "class ClassRoom:\n",
    "    def __init__(self, subjects):\n",
    "        self.students = []\n",
    "        self.subjects = subjects\n",
    "    \n",
    "    def add_student(self):\n",
    "        name = input('Student name: ')\n",
    "        rollno = input('Student rollno: ')\n",
    "        self.students.append(self.Student(name, rollno))\n",
    "\n",
    "\n",
    "    class Student:\n",
    "        def __init__(self, name, rollno):\n",
    "            self.name = name\n",
    "            self.rollno = rollno\n",
    "        def __repr__(self):\n",
    "            return f'Name: {self.name}\\nRollNo: {self.rollno}'\n",
    "\n",
    "\n",
    "class3 = ClassRoom(('mafjhf'))\n",
    "class3.add_student()"
   ]
  },
  {
   "cell_type": "code",
   "execution_count": null,
   "metadata": {},
   "outputs": [],
   "source": [
    "print(class3.students[0])"
   ]
  }
 ]
}