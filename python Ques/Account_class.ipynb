{
 "metadata": {
  "language_info": {
   "codemirror_mode": {
    "name": "ipython",
    "version": 3
   },
   "file_extension": ".py",
   "mimetype": "text/x-python",
   "name": "python",
   "nbconvert_exporter": "python",
   "pygments_lexer": "ipython3",
   "version": "3.7.3-final"
  },
  "orig_nbformat": 2,
  "kernelspec": {
   "name": "python3",
   "display_name": "Python 3.7.3 32-bit",
   "metadata": {
    "interpreter": {
     "hash": "1f569f38f9ff0ccc2d6519de6d5565ac966e53582e7a68dd5bf488942db796b1"
    }
   }
  }
 },
 "nbformat": 4,
 "nbformat_minor": 2,
 "cells": [
  {
   "cell_type": "code",
   "execution_count": 1,
   "metadata": {},
   "outputs": [],
   "source": [
    "class Account:\n",
    "    acc = 10000\n",
    "    def __init__(self, typ):\n",
    "    \n",
    "        self.__name = ''\n",
    "        Account.acc += 1\n",
    "        self.__typ = typ\n",
    "        self.__bal = 0\n",
    "\n",
    "    def initial(self, name):\n",
    "        self.__name = name\n",
    "        \n",
    "        with open(f'{self.__name} Passbook', 'w') as f:\n",
    "            f.write(f'-------User Passbook-------\\nName : {self.__name}\\t\\tAccount number : {Account.acc}\\t\\tType : {self.__typ}\\n\\n')\n",
    "    \n",
    "    def __repr__(self):\n",
    "        return f'Name : {self.__name}\\nBalance : {self.__bal}'\n",
    "    \n",
    "    def deposit(self, amt):\n",
    "        self.__bal +=amt\n",
    "        print(f'you have deposited Rs{amt} to your account, your current balance is {self.__bal}')\n",
    "        with open(f'{self.__name} Passbook', 'a') as f:\n",
    "            f.write(f'Deposit : {amt}\\t\\t Current Balance : {self.__bal}\\n\\n')\n",
    "    \n",
    "    def withdraw(self, amt):\n",
    "        if amt > self.__bal:\n",
    "            raise ValueError('Withraw amount is more than balance Amount')\n",
    "        self.__bal-= amt\n",
    "        print(f'you have withdraw {amt} to your account, your current balance is {self.__bal}')\n",
    "        with open(f'{self.__name} Passbook', 'a') as f:\n",
    "            f.write(f'Withdraw : {amt}\\t\\t Current Balance : {self.__bal}\\n\\n')"
   ]
  },
  {
   "cell_type": "code",
   "execution_count": 2,
   "metadata": {},
   "outputs": [
    {
     "output_type": "stream",
     "name": "stdout",
     "text": [
      "Name : Nidhi\nBalance : 0\nyou have deposited Rs50 to your account, your current balance is 50\nName : Nidhi\nBalance : 50\nyou have withdraw 40 to your account, your current balance is 10\n"
     ]
    },
    {
     "output_type": "error",
     "ename": "ValueError",
     "evalue": "Withraw amount is more than balance Amount",
     "traceback": [
      "\u001b[1;31m---------------------------------------------------------------------------\u001b[0m",
      "\u001b[1;31mValueError\u001b[0m                                Traceback (most recent call last)",
      "\u001b[1;32m<ipython-input-2-bae6be0028a3>\u001b[0m in \u001b[0;36m<module>\u001b[1;34m\u001b[0m\n\u001b[0;32m      5\u001b[0m \u001b[0mprint\u001b[0m\u001b[1;33m(\u001b[0m\u001b[0mmember1\u001b[0m\u001b[1;33m)\u001b[0m\u001b[1;33m\u001b[0m\u001b[1;33m\u001b[0m\u001b[0m\n\u001b[0;32m      6\u001b[0m \u001b[0mmember1\u001b[0m\u001b[1;33m.\u001b[0m\u001b[0mwithdraw\u001b[0m\u001b[1;33m(\u001b[0m\u001b[1;36m40\u001b[0m\u001b[1;33m)\u001b[0m\u001b[1;33m\u001b[0m\u001b[1;33m\u001b[0m\u001b[0m\n\u001b[1;32m----> 7\u001b[1;33m \u001b[0mmember1\u001b[0m\u001b[1;33m.\u001b[0m\u001b[0mwithdraw\u001b[0m\u001b[1;33m(\u001b[0m\u001b[1;36m30\u001b[0m\u001b[1;33m)\u001b[0m\u001b[1;33m\u001b[0m\u001b[1;33m\u001b[0m\u001b[0m\n\u001b[0m",
      "\u001b[1;32m<ipython-input-1-63a5f8d9a16a>\u001b[0m in \u001b[0;36mwithdraw\u001b[1;34m(self, amt)\u001b[0m\n\u001b[0;32m     25\u001b[0m     \u001b[1;32mdef\u001b[0m \u001b[0mwithdraw\u001b[0m\u001b[1;33m(\u001b[0m\u001b[0mself\u001b[0m\u001b[1;33m,\u001b[0m \u001b[0mamt\u001b[0m\u001b[1;33m)\u001b[0m\u001b[1;33m:\u001b[0m\u001b[1;33m\u001b[0m\u001b[1;33m\u001b[0m\u001b[0m\n\u001b[0;32m     26\u001b[0m         \u001b[1;32mif\u001b[0m \u001b[0mamt\u001b[0m \u001b[1;33m>\u001b[0m \u001b[0mself\u001b[0m\u001b[1;33m.\u001b[0m\u001b[0m__bal\u001b[0m\u001b[1;33m:\u001b[0m\u001b[1;33m\u001b[0m\u001b[1;33m\u001b[0m\u001b[0m\n\u001b[1;32m---> 27\u001b[1;33m             \u001b[1;32mraise\u001b[0m \u001b[0mValueError\u001b[0m\u001b[1;33m(\u001b[0m\u001b[1;34m'Withraw amount is more than balance Amount'\u001b[0m\u001b[1;33m)\u001b[0m\u001b[1;33m\u001b[0m\u001b[1;33m\u001b[0m\u001b[0m\n\u001b[0m\u001b[0;32m     28\u001b[0m         \u001b[0mself\u001b[0m\u001b[1;33m.\u001b[0m\u001b[0m__bal\u001b[0m\u001b[1;33m-=\u001b[0m \u001b[0mamt\u001b[0m\u001b[1;33m\u001b[0m\u001b[1;33m\u001b[0m\u001b[0m\n\u001b[0;32m     29\u001b[0m         \u001b[0mprint\u001b[0m\u001b[1;33m(\u001b[0m\u001b[1;34mf'you have withdraw {amt} to your account, your current balance is {self.__bal}'\u001b[0m\u001b[1;33m)\u001b[0m\u001b[1;33m\u001b[0m\u001b[1;33m\u001b[0m\u001b[0m\n",
      "\u001b[1;31mValueError\u001b[0m: Withraw amount is more than balance Amount"
     ]
    }
   ],
   "source": [
    "member1 = Account('Saving')\n",
    "member1.initial('Nidhi')\n",
    "print(member1)\n",
    "member1.deposit(50)\n",
    "print(member1)\n",
    "member1.withdraw(40)\n",
    "member1.withdraw(30)"
   ]
  }
 ]
}