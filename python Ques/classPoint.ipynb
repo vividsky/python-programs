{
 "metadata": {
  "language_info": {
   "codemirror_mode": {
    "name": "ipython",
    "version": 3
   },
   "file_extension": ".py",
   "mimetype": "text/x-python",
   "name": "python",
   "nbconvert_exporter": "python",
   "pygments_lexer": "ipython3",
   "version": "3.7.3-final"
  },
  "orig_nbformat": 2,
  "kernelspec": {
   "name": "python3",
   "display_name": "Python 3.7.3 32-bit",
   "metadata": {
    "interpreter": {
     "hash": "1f569f38f9ff0ccc2d6519de6d5565ac966e53582e7a68dd5bf488942db796b1"
    }
   }
  }
 },
 "nbformat": 4,
 "nbformat_minor": 2,
 "cells": [
  {
   "cell_type": "code",
   "execution_count": 2,
   "metadata": {},
   "outputs": [],
   "source": [
    "class Point:\n",
    "    _count = 0\n",
    "    def __init__(self, pts):\n",
    "        self._x0, self._y0 = pts\n",
    "        Point._count+=1\n",
    "         \n",
    "    def __repr__(self):\n",
    "        return str((self._x0, self._y0))\n",
    "    \n",
    "    @classmethod\n",
    "    def count(cls):\n",
    "        return cls._count\n",
    "\n",
    "    def move(self, x, y):\n",
    "        self._x0 = x\n",
    "        self._y0 = y\n",
    "        \n",
    "    def dist(self,other):\n",
    "        return ((self._x0 - other._x0)**2 + (self._y0 - other._y0)**2)**(1/2)"
   ]
  },
  {
   "cell_type": "code",
   "execution_count": 3,
   "metadata": {},
   "outputs": [
    {
     "output_type": "stream",
     "name": "stdout",
     "text": [
      "(1, 2)\n2.8284271247461903\n(10, 10)\n2\n"
     ]
    }
   ],
   "source": [
    "point1 = Point((1, 2))\n",
    "point2 = Point((3, 4))\n",
    "print(point1)\n",
    "print(point1.dist(point2))\n",
    "point1.move(10, 10) \n",
    "print(point1)\n",
    "print(Point.count())"
   ]
  },
  {
   "cell_type": "code",
   "execution_count": 1,
   "metadata": {},
   "outputs": [
    {
     "output_type": "execute_result",
     "data": {
      "text/plain": [
       "1"
      ]
     },
     "metadata": {},
     "execution_count": 1
    }
   ],
   "source": [
    "2//2\n"
   ]
  },
  {
   "cell_type": "code",
   "execution_count": 4,
   "metadata": {},
   "outputs": [
    {
     "output_type": "stream",
     "name": "stdout",
     "text": [
      "20\n"
     ]
    }
   ],
   "source": []
  },
  {
   "cell_type": "code",
   "execution_count": null,
   "metadata": {},
   "outputs": [],
   "source": []
  }
 ]
}